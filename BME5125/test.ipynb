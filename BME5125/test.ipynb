{
 "cells": [
  {
   "cell_type": "code",
   "execution_count": 2,
   "metadata": {},
   "outputs": [],
   "source": [
    "import pandas as pd\n",
    "import matplotlib.pyplot as plt\n",
    "\n",
    "# 读取数据\n",
    "path1 = '/mnt/e/BME5150/g11t3_oppo_modeloutput.xlsx'\n",
    "df0 = pd.read_excel(path1, header=2)\n",
    "\n",
    "# 选择需要计算速度的列，并删除前两行（单位信息）\n",
    "df01 = df0[['G11:CentreOfMass','G11:CentreOfMass.1','G11:CentreOfMass.2']]\n",
    "df01 = df01.drop([0, 1])\n",
    "\n",
    "# 采样间隔时间\n",
    "sampling_interval = 0.004\n",
    "velocity_df = df01.diff() / (2 * sampling_interval)\n"
   ]
  },
  {
   "cell_type": "code",
   "execution_count": 9,
   "metadata": {},
   "outputs": [
    {
     "data": {
      "text/html": [
       "<div>\n",
       "<style scoped>\n",
       "    .dataframe tbody tr th:only-of-type {\n",
       "        vertical-align: middle;\n",
       "    }\n",
       "\n",
       "    .dataframe tbody tr th {\n",
       "        vertical-align: top;\n",
       "    }\n",
       "\n",
       "    .dataframe thead th {\n",
       "        text-align: right;\n",
       "    }\n",
       "</style>\n",
       "<table border=\"1\" class=\"dataframe\">\n",
       "  <thead>\n",
       "    <tr style=\"text-align: right;\">\n",
       "      <th></th>\n",
       "      <th>G11:CentreOfMass</th>\n",
       "      <th>G11:CentreOfMass.1</th>\n",
       "      <th>G11:CentreOfMass.2</th>\n",
       "    </tr>\n",
       "  </thead>\n",
       "  <tbody>\n",
       "    <tr>\n",
       "      <th>2</th>\n",
       "      <td>NaN</td>\n",
       "      <td>NaN</td>\n",
       "      <td>NaN</td>\n",
       "    </tr>\n",
       "    <tr>\n",
       "      <th>3</th>\n",
       "      <td>NaN</td>\n",
       "      <td>NaN</td>\n",
       "      <td>NaN</td>\n",
       "    </tr>\n",
       "    <tr>\n",
       "      <th>4</th>\n",
       "      <td>1392.5</td>\n",
       "      <td>-40.875</td>\n",
       "      <td>-95.0</td>\n",
       "    </tr>\n",
       "    <tr>\n",
       "      <th>5</th>\n",
       "      <td>1827.5</td>\n",
       "      <td>-49.0</td>\n",
       "      <td>-104.625</td>\n",
       "    </tr>\n",
       "  </tbody>\n",
       "</table>\n",
       "</div>"
      ],
      "text/plain": [
       "  G11:CentreOfMass G11:CentreOfMass.1 G11:CentreOfMass.2\n",
       "2              NaN                NaN                NaN\n",
       "3              NaN                NaN                NaN\n",
       "4           1392.5            -40.875              -95.0\n",
       "5           1827.5              -49.0           -104.625"
      ]
     },
     "execution_count": 9,
     "metadata": {},
     "output_type": "execute_result"
    }
   ],
   "source": [
    "df001 = df01[0:4]\n",
    "\n",
    "\n",
    "velocity_df1 = df001.diff(periods=2) / (2 * sampling_interval)\n",
    "velocity_df1\n"
   ]
  },
  {
   "cell_type": "code",
   "execution_count": 6,
   "metadata": {},
   "outputs": [
    {
     "data": {
      "text/html": [
       "<div>\n",
       "<style scoped>\n",
       "    .dataframe tbody tr th:only-of-type {\n",
       "        vertical-align: middle;\n",
       "    }\n",
       "\n",
       "    .dataframe tbody tr th {\n",
       "        vertical-align: top;\n",
       "    }\n",
       "\n",
       "    .dataframe thead th {\n",
       "        text-align: right;\n",
       "    }\n",
       "</style>\n",
       "<table border=\"1\" class=\"dataframe\">\n",
       "  <thead>\n",
       "    <tr style=\"text-align: right;\">\n",
       "      <th></th>\n",
       "      <th>G11:CentreOfMass</th>\n",
       "      <th>G11:CentreOfMass.1</th>\n",
       "      <th>G11:CentreOfMass.2</th>\n",
       "    </tr>\n",
       "  </thead>\n",
       "  <tbody>\n",
       "    <tr>\n",
       "      <th>2</th>\n",
       "      <td>-2559.92</td>\n",
       "      <td>311.655</td>\n",
       "      <td>869.355</td>\n",
       "    </tr>\n",
       "    <tr>\n",
       "      <th>3</th>\n",
       "      <td>-2555.29</td>\n",
       "      <td>311.513</td>\n",
       "      <td>869.011</td>\n",
       "    </tr>\n",
       "    <tr>\n",
       "      <th>4</th>\n",
       "      <td>-2548.78</td>\n",
       "      <td>311.328</td>\n",
       "      <td>868.595</td>\n",
       "    </tr>\n",
       "    <tr>\n",
       "      <th>5</th>\n",
       "      <td>-2540.67</td>\n",
       "      <td>311.121</td>\n",
       "      <td>868.174</td>\n",
       "    </tr>\n",
       "  </tbody>\n",
       "</table>\n",
       "</div>"
      ],
      "text/plain": [
       "  G11:CentreOfMass G11:CentreOfMass.1 G11:CentreOfMass.2\n",
       "2         -2559.92            311.655            869.355\n",
       "3         -2555.29            311.513            869.011\n",
       "4         -2548.78            311.328            868.595\n",
       "5         -2540.67            311.121            868.174"
      ]
     },
     "execution_count": 6,
     "metadata": {},
     "output_type": "execute_result"
    }
   ],
   "source": [
    "df001"
   ]
  },
  {
   "cell_type": "code",
   "execution_count": null,
   "metadata": {},
   "outputs": [],
   "source": [
    "# 计算速度\n",
    "\n",
    "\n",
    "# 重新设置索引\n",
    "velocity_df.index = range(1, len(velocity_df) + 1)\n",
    "x2 = [i * 0.004 for i in range(0, len(df01))]  # 0.004 的采样率\n",
    "# 绘制图表\n",
    "plt.figure(figsize=(10, 6))  # 设置图形大小\n",
    "for column1 in df01.columns:\n",
    "    plt.plot(x2, df01[column1], label=column1, linestyle='--')\n",
    "\n",
    "for column in velocity_df.columns:\n",
    "    plt.plot(velocity_df.index * sampling_interval, velocity_df[column], label=(column+'velocity'))\n",
    "\n",
    "# 添加标题和标签\n",
    "plt.title('Velocity Plot')\n",
    "plt.xlabel('Time (s)')\n",
    "plt.ylabel('Velocity')\n",
    "plt.legend()  # 添加图例\n",
    "plt.grid(True)  # 添加网格线\n",
    "plt.show()"
   ]
  }
 ],
 "metadata": {
  "kernelspec": {
   "display_name": "py38",
   "language": "python",
   "name": "python3"
  },
  "language_info": {
   "codemirror_mode": {
    "name": "ipython",
    "version": 3
   },
   "file_extension": ".py",
   "mimetype": "text/x-python",
   "name": "python",
   "nbconvert_exporter": "python",
   "pygments_lexer": "ipython3",
   "version": "3.8.18"
  }
 },
 "nbformat": 4,
 "nbformat_minor": 2
}
